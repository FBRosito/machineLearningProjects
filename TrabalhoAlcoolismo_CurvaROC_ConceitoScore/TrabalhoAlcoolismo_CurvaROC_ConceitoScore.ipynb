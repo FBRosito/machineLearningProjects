{
 "cells": [
  {
   "cell_type": "markdown",
   "metadata": {
    "jp-MarkdownHeadingCollapsed": true,
    "tags": []
   },
   "source": [
    "<center><h1>Trabalho Alcoolismo - Curva ROC</h1></center>"
   ]
  },
  {
   "cell_type": "markdown",
   "metadata": {
    "tags": []
   },
   "source": [
    "##  Busca em um dos parâmetros, treinamento do modelo com o conjunto completo dos dados e salvamento o modelo:"
   ]
  },
  {
   "cell_type": "code",
   "execution_count": 1,
   "metadata": {},
   "outputs": [
    {
     "name": "stdout",
     "output_type": "stream",
     "text": [
      "2 - 0.4118\n",
      "3 - 0.4737\n",
      "4 - 0.4375\n",
      "5 - 0.4242\n",
      "6 - 0.4571\n",
      "7 - 0.4571\n",
      "8 - 0.4571\n",
      "9 - 0.4118\n",
      "10 - 0.4571\n"
     ]
    },
    {
     "data": {
      "text/plain": [
       "['modelo_dt.joblib']"
      ]
     },
     "execution_count": 1,
     "metadata": {},
     "output_type": "execute_result"
    }
   ],
   "source": [
    "# Leitura da base de dados\n",
    "import pandas as pd\n",
    "df = pd.read_csv('alcoolismo_infantil.csv') \n",
    "\n",
    "# Separação em variável preditiva e variável resposta\n",
    "X = df[['goout','absences']] \n",
    "y = df['target']\n",
    "\n",
    "# Separação em treino e teste\n",
    "from sklearn.model_selection import train_test_split\n",
    "X_treino, X_teste, y_treino, y_teste = train_test_split(X,y,test_size=0.3,random_state=42) \n",
    "\n",
    "# Busca nos parametros para encontrar o melhor modelo\n",
    "from sklearn.tree import DecisionTreeClassifier\n",
    "from sklearn.metrics import f1_score\n",
    "max_depths = [2,3,4,5,6,7,8,9,10] \n",
    "f1s = []\n",
    "for max_depth in max_depths:\n",
    "    dt = DecisionTreeClassifier(max_depth=max_depth,random_state=123)\n",
    "    dt.fit(X_treino,y_treino)\n",
    "    y_pred = dt.predict(X_teste)\n",
    "    f1 = f1_score(y_teste, y_pred)\n",
    "    \n",
    "    f1s.append( f1 )\n",
    "    print( '{max_depth} - {f1:5.4f}'.format(max_depth=max_depth, f1=f1s[-1]) )\n",
    "\n",
    "# Qual parametros é o melhor?\n",
    "import numpy as np\n",
    "best = max_depths[ np.argmax(f1s) ]\n",
    "\n",
    "# Ajuste do melhor modelo com a base completa\n",
    "dt.fit(X, y)\n",
    "\n",
    "# Salvar o melhor modelo em um arquivo\n",
    "import joblib\n",
    "joblib.dump(dt, 'modelo_dt.joblib')"
   ]
  },
  {
   "cell_type": "code",
   "execution_count": 2,
   "metadata": {},
   "outputs": [
    {
     "name": "stdout",
     "output_type": "stream",
     "text": [
      "O melhor max_depth foi 3\n",
      "Precision: 0.6\n",
      "Recall: 0.391304347826087\n"
     ]
    }
   ],
   "source": [
    "print('O melhor max_depth foi {best}'.format(best=best))\n",
    "dt = DecisionTreeClassifier(max_depth=best,random_state=42)\n",
    "dt.fit(X_treino, y_treino)\n",
    "\n",
    "from sklearn.metrics import precision_score, recall_score\n",
    "precision = precision_score(y_teste, dt.predict(X_teste))\n",
    "recall = recall_score(y_teste, dt.predict(X_teste))\n",
    "print('Precision: {p}'.format(p=precision))\n",
    "print('Recall: {p}'.format(p=recall))"
   ]
  },
  {
   "cell_type": "code",
   "execution_count": 3,
   "metadata": {},
   "outputs": [
    {
     "data": {
      "text/plain": [
       "0.19327731092436976"
      ]
     },
     "execution_count": 3,
     "metadata": {},
     "output_type": "execute_result"
    }
   ],
   "source": [
    "y_teste.mean()"
   ]
  },
  {
   "cell_type": "code",
   "execution_count": 4,
   "metadata": {},
   "outputs": [
    {
     "data": {
      "text/plain": [
       "0.12605042016806722"
      ]
     },
     "execution_count": 4,
     "metadata": {},
     "output_type": "execute_result"
    }
   ],
   "source": [
    "dt.predict(X_teste).mean()"
   ]
  },
  {
   "cell_type": "markdown",
   "metadata": {},
   "source": [
    "Procuro detectar estudantes com um problema de alcolismo para encaminhá-los para uma psicóloga qualificada.\n",
    "\n",
    "Em CONJUNTO TESTE, com dados que o modelo nunca viu antes durante o treinamento:\n",
    " - <b>Precision</b>: De todos que o modelo solicitou que encaminhasse para a psicóloga, 60% realmente tinham um problema. Isso quer dizer que <u>estamos desperdiçando nosso recurso (tempo da psicóloga) 40% das vezes</u>. Além disso, caso enviasse alunos aleatoriamente para a psicóloga, como há 20% dos estudantes com problemas, desperdissaria 80% das vezes.\n",
    " - <b>Recall</b>: De todos os alunos alcolistas, detectei 40% deles. Lembrando que o modelo solicitou que eu encaminhasse somente 12.6% dos alunos para a psicóloga (linha `dt.predict(X_teste).mean()`: Qual a fração de preditos como alcolista em relação a base toda). Ou seja: Apesar de eu enviar pouca gente, tive uma taxa de acertos relativamente boa."
   ]
  },
  {
   "cell_type": "code",
   "execution_count": 5,
   "metadata": {},
   "outputs": [
    {
     "data": {
      "text/plain": [
       "array([0, 0, 0, 0, 0, 0, 0, 0, 0, 0, 0, 0, 0, 0, 0, 0, 0, 0, 0, 0, 0, 1,\n",
       "       0, 0, 0, 0, 0, 0, 0, 0, 1, 0, 0, 0, 0, 0, 0, 0, 0, 0, 0, 0, 0, 0,\n",
       "       0, 0, 1, 1, 1, 0, 0, 0, 0, 0, 0, 0, 0, 1, 0, 0, 0, 0, 1, 0, 0, 0,\n",
       "       0, 0, 0, 0, 0, 0, 0, 0, 0, 0, 0, 0, 1, 0, 0, 1, 0, 0, 0, 0, 0, 0,\n",
       "       0, 0, 0, 0, 0, 0, 0, 0, 0, 0, 0, 0, 0, 1, 0, 0, 0, 0, 0, 1, 0, 0,\n",
       "       0, 1, 0, 0, 1, 0, 1, 0, 1])"
      ]
     },
     "execution_count": 5,
     "metadata": {},
     "output_type": "execute_result"
    }
   ],
   "source": [
    "dt.predict(X_teste)"
   ]
  },
  {
   "cell_type": "code",
   "execution_count": 6,
   "metadata": {},
   "outputs": [
    {
     "data": {
      "text/plain": [
       "(15, 119)"
      ]
     },
     "execution_count": 6,
     "metadata": {},
     "output_type": "execute_result"
    }
   ],
   "source": [
    "dt.predict(X_teste).sum(),len(X_teste)"
   ]
  },
  {
   "cell_type": "markdown",
   "metadata": {},
   "source": [
    "Aqui conseguimos observar números absolutos: de 119 alunos no conjunto teste, 15 foram encaminhados para a psicóloga.\n",
    "\n",
    "O que da mais de <b>10% da escola!</b>"
   ]
  },
  {
   "cell_type": "markdown",
   "metadata": {},
   "source": [
    "Supondo que a psicóloga possui agenda para mais alunos que isso, que ela quer que enviemos mais gente, uma vez que ela sabe que não capturamos todos. Mas queremos mandar somente aqueles que temos um pouco mais de certeza da situação. Como posso fazer isso?\n",
    "\n",
    "Agora vou procurar fazer um ordenamento."
   ]
  },
  {
   "cell_type": "markdown",
   "metadata": {},
   "source": [
    "Para isso, vamos relembrar como a árvore de decisão funciona. Vamos VISUALIZAR as regras geradas pela árvore:"
   ]
  },
  {
   "cell_type": "code",
   "execution_count": 7,
   "metadata": {},
   "outputs": [
    {
     "data": {
      "image/png": "[encoded data removed]",
      "text/plain": [
       "<Figure size 1080x720 with 1 Axes>"
      ]
     },
     "metadata": {
      "needs_background": "light"
     },
     "output_type": "display_data"
    }
   ],
   "source": [
    "from sklearn.tree import plot_tree\n",
    "import matplotlib.pyplot as plt\n",
    "#Acabei tendo que ajustar o tamanho com figsize\n",
    "plt.figure(figsize=(15,10))\n",
    "ax = plt.subplot(1,1,1)\n",
    "plot_tree(dt,ax=ax);"
   ]
  },
  {
   "cell_type": "markdown",
   "metadata": {},
   "source": [
    "Vale a pena observar pra folha mais da esquerda. Passando pelas regras, a árvore mandou 90 alunos pra lá, sendo que apenas 3 eram alcolistas. <b>96% deles não tinham nenhum problema</b>. Se formos ordenar, qual o **score de alcolismo** que poderíamos dar para esses alunos:<b> 3/90!</b>\n",
    "É considerado quase como uma \"probabilidade de encontrar um aluno alcolista nessa folha\". Por razões técnicas não podemos falar que é uma probabilidade mesmo, mas ordena. Quanto maior esse número, maior a chance de ser alcolista."
   ]
  },
  {
   "cell_type": "code",
   "execution_count": 8,
   "metadata": {},
   "outputs": [
    {
     "data": {
      "text/plain": [
       "0.03333333333333333"
      ]
     },
     "execution_count": 8,
     "metadata": {},
     "output_type": "execute_result"
    }
   ],
   "source": [
    "3/90"
   ]
  },
  {
   "cell_type": "markdown",
   "metadata": {},
   "source": [
    "E na próxima folha:"
   ]
  },
  {
   "cell_type": "code",
   "execution_count": 9,
   "metadata": {},
   "outputs": [
    {
     "data": {
      "text/plain": [
       "0.08"
      ]
     },
     "execution_count": 9,
     "metadata": {},
     "output_type": "execute_result"
    }
   ],
   "source": [
    "4/50"
   ]
  },
  {
   "cell_type": "markdown",
   "metadata": {},
   "source": [
    "Mas por que não é considerado probabilidade?\n",
    "Basicamente porque isso se trata de um problema de amostragem, tínhamos uma base pequena, e, em particular, somente 1 aluno com a sequência de características que foram filtradas por essa regra. O <u>estimador dessa probabilidade</u> não é bom, ele se distancia muito da *probabilidade real*."
   ]
  },
  {
   "cell_type": "markdown",
   "metadata": {},
   "source": [
    "<hr/>"
   ]
  },
  {
   "cell_type": "markdown",
   "metadata": {},
   "source": [
    "Para 'pegar' esses **scores** usaremos a função `predict_proba` ao invés de usarmos a `predict`:"
   ]
  },
  {
   "cell_type": "code",
   "execution_count": 10,
   "metadata": {},
   "outputs": [
    {
     "data": {
      "text/plain": [
       "array([[0.96666667, 0.03333333],\n",
       "       [0.96666667, 0.03333333],\n",
       "       [0.92      , 0.08      ],\n",
       "       [0.66666667, 0.33333333],\n",
       "       [0.66666667, 0.33333333],\n",
       "       [0.96666667, 0.03333333],\n",
       "       [0.96666667, 0.03333333],\n",
       "       [0.80645161, 0.19354839],\n",
       "       [0.96666667, 0.03333333],\n",
       "       [0.96666667, 0.03333333],\n",
       "       [0.96666667, 0.03333333],\n",
       "       [0.92      , 0.08      ],\n",
       "       [0.96666667, 0.03333333],\n",
       "       [0.96666667, 0.03333333],\n",
       "       [0.66666667, 0.33333333],\n",
       "       [0.66666667, 0.33333333],\n",
       "       [0.66666667, 0.33333333],\n",
       "       [0.96666667, 0.03333333],\n",
       "       [0.96666667, 0.03333333],\n",
       "       [0.66666667, 0.33333333],\n",
       "       [0.66666667, 0.33333333],\n",
       "       [0.46341463, 0.53658537],\n",
       "       [0.96666667, 0.03333333],\n",
       "       [0.66666667, 0.33333333],\n",
       "       [0.96666667, 0.03333333],\n",
       "       [0.80645161, 0.19354839],\n",
       "       [0.96666667, 0.03333333],\n",
       "       [0.96666667, 0.03333333],\n",
       "       [0.96666667, 0.03333333],\n",
       "       [0.92      , 0.08      ],\n",
       "       [0.25      , 0.75      ],\n",
       "       [0.96666667, 0.03333333],\n",
       "       [0.96666667, 0.03333333],\n",
       "       [0.92      , 0.08      ],\n",
       "       [0.96666667, 0.03333333],\n",
       "       [0.80645161, 0.19354839],\n",
       "       [0.96666667, 0.03333333],\n",
       "       [0.92      , 0.08      ],\n",
       "       [0.96666667, 0.03333333],\n",
       "       [0.80645161, 0.19354839],\n",
       "       [0.66666667, 0.33333333],\n",
       "       [0.96666667, 0.03333333],\n",
       "       [0.92      , 0.08      ],\n",
       "       [0.92      , 0.08      ],\n",
       "       [0.96666667, 0.03333333],\n",
       "       [0.96666667, 0.03333333],\n",
       "       [0.46341463, 0.53658537],\n",
       "       [0.25      , 0.75      ],\n",
       "       [0.46341463, 0.53658537],\n",
       "       [0.92      , 0.08      ],\n",
       "       [0.92      , 0.08      ],\n",
       "       [0.96666667, 0.03333333],\n",
       "       [0.96666667, 0.03333333],\n",
       "       [0.92      , 0.08      ],\n",
       "       [0.92      , 0.08      ],\n",
       "       [0.66666667, 0.33333333],\n",
       "       [0.96666667, 0.03333333],\n",
       "       [0.46341463, 0.53658537],\n",
       "       [0.96666667, 0.03333333],\n",
       "       [0.96666667, 0.03333333],\n",
       "       [0.66666667, 0.33333333],\n",
       "       [0.92      , 0.08      ],\n",
       "       [0.46341463, 0.53658537],\n",
       "       [0.66666667, 0.33333333],\n",
       "       [0.92      , 0.08      ],\n",
       "       [0.96666667, 0.03333333],\n",
       "       [0.66666667, 0.33333333],\n",
       "       [0.92      , 0.08      ],\n",
       "       [0.66666667, 0.33333333],\n",
       "       [0.80645161, 0.19354839],\n",
       "       [0.92      , 0.08      ],\n",
       "       [0.96666667, 0.03333333],\n",
       "       [0.92      , 0.08      ],\n",
       "       [0.92      , 0.08      ],\n",
       "       [0.96666667, 0.03333333],\n",
       "       [0.66666667, 0.33333333],\n",
       "       [0.92      , 0.08      ],\n",
       "       [0.96666667, 0.03333333],\n",
       "       [0.46341463, 0.53658537],\n",
       "       [0.96666667, 0.03333333],\n",
       "       [0.96666667, 0.03333333],\n",
       "       [0.46341463, 0.53658537],\n",
       "       [0.66666667, 0.33333333],\n",
       "       [0.96666667, 0.03333333],\n",
       "       [0.80645161, 0.19354839],\n",
       "       [0.92      , 0.08      ],\n",
       "       [0.96666667, 0.03333333],\n",
       "       [0.96666667, 0.03333333],\n",
       "       [0.80645161, 0.19354839],\n",
       "       [0.96666667, 0.03333333],\n",
       "       [0.80645161, 0.19354839],\n",
       "       [0.66666667, 0.33333333],\n",
       "       [0.96666667, 0.03333333],\n",
       "       [0.96666667, 0.03333333],\n",
       "       [0.96666667, 0.03333333],\n",
       "       [0.80645161, 0.19354839],\n",
       "       [0.92      , 0.08      ],\n",
       "       [0.66666667, 0.33333333],\n",
       "       [0.66666667, 0.33333333],\n",
       "       [0.92      , 0.08      ],\n",
       "       [0.92      , 0.08      ],\n",
       "       [0.46341463, 0.53658537],\n",
       "       [0.66666667, 0.33333333],\n",
       "       [0.92      , 0.08      ],\n",
       "       [0.96666667, 0.03333333],\n",
       "       [0.66666667, 0.33333333],\n",
       "       [0.66666667, 0.33333333],\n",
       "       [0.25      , 0.75      ],\n",
       "       [0.80645161, 0.19354839],\n",
       "       [0.66666667, 0.33333333],\n",
       "       [0.92      , 0.08      ],\n",
       "       [0.46341463, 0.53658537],\n",
       "       [0.66666667, 0.33333333],\n",
       "       [0.80645161, 0.19354839],\n",
       "       [0.25      , 0.75      ],\n",
       "       [0.92      , 0.08      ],\n",
       "       [0.46341463, 0.53658537],\n",
       "       [0.96666667, 0.03333333],\n",
       "       [0.46341463, 0.53658537]])"
      ]
     },
     "execution_count": 10,
     "metadata": {},
     "output_type": "execute_result"
    }
   ],
   "source": [
    "dt.predict_proba(X_teste)"
   ]
  },
  {
   "cell_type": "markdown",
   "metadata": {},
   "source": [
    " - Cada linha é o score de um aluno.\n",
    " - A primeira coluna (coluna 0) é o score de NÃO ser alcolista (target=0)\n",
    " - A segunda coluna (coluna 1) é o score de SER acolista (target=1)\n",
    "\n",
    "     **As duas colunas sempre somam 1**\n",
    "\n",
    "Como a base é muito *desbalanceada*, existe o efeito que ter muito mais score de alcolismo baixos que altos, simplesmente porque como tem mais alunos não alcolistas, é mais provável deles cairem em qualquer uma das folhas"
   ]
  },
  {
   "cell_type": "markdown",
   "metadata": {},
   "source": [
    "<hr />"
   ]
  },
  {
   "cell_type": "code",
   "execution_count": 11,
   "metadata": {},
   "outputs": [
    {
     "data": {
      "text/plain": [
       "array([ True,  True,  True,  True,  True,  True,  True,  True,  True,\n",
       "        True,  True,  True,  True,  True,  True,  True,  True,  True,\n",
       "        True,  True,  True,  True,  True,  True,  True,  True,  True,\n",
       "        True,  True,  True,  True,  True,  True,  True,  True,  True,\n",
       "        True,  True,  True,  True,  True,  True,  True,  True,  True,\n",
       "        True,  True,  True,  True,  True,  True,  True,  True,  True,\n",
       "        True,  True,  True,  True,  True,  True,  True,  True,  True,\n",
       "        True,  True,  True,  True,  True,  True,  True,  True,  True,\n",
       "        True,  True,  True,  True,  True,  True,  True,  True,  True,\n",
       "        True,  True,  True,  True,  True,  True,  True,  True,  True,\n",
       "        True,  True,  True,  True,  True,  True,  True,  True,  True,\n",
       "        True,  True,  True,  True,  True,  True,  True,  True,  True,\n",
       "        True,  True,  True,  True,  True,  True,  True,  True,  True,\n",
       "        True,  True])"
      ]
     },
     "execution_count": 11,
     "metadata": {},
     "output_type": "execute_result"
    }
   ],
   "source": [
    "preds1 = dt.predict_proba(X_teste)[:,1] > 0.50\n",
    "preds2 = dt.predict(X_teste)\n",
    "\n",
    "preds1 == preds2"
   ]
  },
  {
   "cell_type": "markdown",
   "metadata": {},
   "source": [
    "# Escolhendo o limiar:"
   ]
  },
  {
   "cell_type": "markdown",
   "metadata": {},
   "source": [
    "Primeiro, vou dar uma olhada na *distribuição* desses scores com um gráfico de barras, o:\n",
    "- O *eixo-x* são intervalos de score;\n",
    "- O *eixo-y* é a contagem de quantas pessoas cairam naquele intervalo de score;\n",
    "\n",
    " - Em azul, o histograma somente para os alunos a classe 0, não alcolistas\n",
    " - Em vermelho, o histograma somente para os alunos a classe 1, alcolistas"
   ]
  },
  {
   "cell_type": "code",
   "execution_count": 12,
   "metadata": {},
   "outputs": [
    {
     "data": {
      "text/plain": [
       "(array([40., 22.,  0.,  0.,  0.,  0., 10.,  0.,  0.,  0.,  0.,  0., 18.,\n",
       "         0.,  0.,  0.,  0.,  0.,  0.,  0.,  0.,  4.,  0.,  0.,  0.,  0.,\n",
       "         0.,  0.,  0.,  2.]),\n",
       " array([0.03333333, 0.05722222, 0.08111111, 0.105     , 0.12888889,\n",
       "        0.15277778, 0.17666667, 0.20055556, 0.22444444, 0.24833333,\n",
       "        0.27222222, 0.29611111, 0.32      , 0.34388889, 0.36777778,\n",
       "        0.39166667, 0.41555556, 0.43944444, 0.46333333, 0.48722222,\n",
       "        0.51111111, 0.535     , 0.55888889, 0.58277778, 0.60666667,\n",
       "        0.63055556, 0.65444444, 0.67833333, 0.70222222, 0.72611111,\n",
       "        0.75      ]),\n",
       " <BarContainer object of 30 artists>)"
      ]
     },
     "execution_count": 12,
     "metadata": {},
     "output_type": "execute_result"
    },
    {
     "data": {
      "image/png": "[encoded data removed]",
      "text/plain": [
       "<Figure size 432x288 with 1 Axes>"
      ]
     },
     "metadata": {
      "needs_background": "light"
     },
     "output_type": "display_data"
    }
   ],
   "source": [
    "alcolistas  = y_teste==1\n",
    "nalcolistas = y_teste==0\n",
    "\n",
    "pred = dt.predict_proba(X_teste)[:,1]\n",
    "\n",
    "plt.hist(pred[ alcolistas],bins=30,color='r',alpha=.3)\n",
    "plt.hist(pred[nalcolistas],bins=30,color='b',alpha=.3)"
   ]
  },
  {
   "cell_type": "markdown",
   "metadata": {},
   "source": [
    "As barras vermelhas são todas muito pequenas. **Isso é efeito do desbalanceamento da base**. \n",
    "Pra ter uma comparação justa, vamos usar o parâmetro `density=True`, isso faz com que os 2 histogramas possuam *a mesma área*. \n",
    "\n",
    "Com isso a altura da barra vermelha agora é *proporcional a probabilidade de encontrar um alcolista quando olhamos praquele intervalo de score*. E similarmente para as barras azuis.\n",
    "\n",
    "Agora os 2 tem um eixo-y comparável: Uma **estimativa** diretamente proporcional à probabilidade"
   ]
  },
  {
   "cell_type": "code",
   "execution_count": 13,
   "metadata": {},
   "outputs": [
    {
     "data": {
      "text/plain": [
       "(array([17.44186047,  9.59302326,  0.        ,  0.        ,  0.        ,\n",
       "         0.        ,  4.36046512,  0.        ,  0.        ,  0.        ,\n",
       "         0.        ,  0.        ,  7.84883721,  0.        ,  0.        ,\n",
       "         0.        ,  0.        ,  0.        ,  0.        ,  0.        ,\n",
       "         0.        ,  1.74418605,  0.        ,  0.        ,  0.        ,\n",
       "         0.        ,  0.        ,  0.        ,  0.        ,  0.87209302]),\n",
       " array([0.03333333, 0.05722222, 0.08111111, 0.105     , 0.12888889,\n",
       "        0.15277778, 0.17666667, 0.20055556, 0.22444444, 0.24833333,\n",
       "        0.27222222, 0.29611111, 0.32      , 0.34388889, 0.36777778,\n",
       "        0.39166667, 0.41555556, 0.43944444, 0.46333333, 0.48722222,\n",
       "        0.51111111, 0.535     , 0.55888889, 0.58277778, 0.60666667,\n",
       "        0.63055556, 0.65444444, 0.67833333, 0.70222222, 0.72611111,\n",
       "        0.75      ]),\n",
       " <BarContainer object of 30 artists>)"
      ]
     },
     "execution_count": 13,
     "metadata": {},
     "output_type": "execute_result"
    },
    {
     "data": {
      "image/png": "[encoded data removed]",
      "text/plain": [
       "<Figure size 432x288 with 1 Axes>"
      ]
     },
     "metadata": {
      "needs_background": "light"
     },
     "output_type": "display_data"
    }
   ],
   "source": [
    "alcolistas  = y_teste==1\n",
    "nalcolistas = y_teste==0\n",
    "\n",
    "pred = dt.predict_proba(X_teste)[:,1]\n",
    "\n",
    "plt.hist(pred[ alcolistas],bins=30,color='r',alpha=.3,density=True)\n",
    "plt.hist(pred[nalcolistas],bins=30,color='b',alpha=.3,density=True)"
   ]
  },
  {
   "cell_type": "markdown",
   "metadata": {},
   "source": [
    "Agora sim: Comparando as barras, vemos que se escolhermos um limiar acima de 0.30, vamos mandar mais gente pra psicóloga, como ela pediu, e ainda vamos estar mandando, proporcionalmente, mais alcolistas que não alcolistas, pois a barra vermelha é maior que a azul.\n",
    "\n",
    "Nessa faixa de score temos PROPORCIONALMENTE mais alcolistas que a média da base, situação que enviaríamos alunos aleatoriamente."
   ]
  },
  {
   "cell_type": "markdown",
   "metadata": {},
   "source": [
    "### Mas vamos olhar agora para o conceito de CURVA ROC para ajudar a olhar pra esses scores. \n",
    "\n",
    "Pra isso, vamos definir 2 indicadores:\n",
    "\n",
    "## True positive rate (TPR)\n",
    "Recall = de todos alcolistas, quanto meu modelo acerta?\n",
    "Quanto mais pra esquerda no histograma, maior\n",
    "\n",
    "## False positive rate (FPR)\n",
    "De todos não alcolistas, quantos eu errei e disse que eram?\n",
    "Quando mais pra esquerda no histograma, maior"
   ]
  },
  {
   "cell_type": "markdown",
   "metadata": {},
   "source": [
    "<hr/>"
   ]
  },
  {
   "cell_type": "markdown",
   "metadata": {},
   "source": [
    "Procuro **maximizar** a TPR ao mesmo tempo que **minimizamos** a FPR.\n"
   ]
  },
  {
   "cell_type": "markdown",
   "metadata": {},
   "source": [
    "**True Positive Rate em limiar 0.7:**"
   ]
  },
  {
   "cell_type": "code",
   "execution_count": 14,
   "metadata": {},
   "outputs": [
    {
     "data": {
      "text/plain": [
       "0.01680672268907563"
      ]
     },
     "execution_count": 14,
     "metadata": {},
     "output_type": "execute_result"
    }
   ],
   "source": [
    "(pred[alcolistas]>0.7).sum()/len(alcolistas)"
   ]
  },
  {
   "cell_type": "markdown",
   "metadata": {},
   "source": [
    "**True Negative Rate em limiar 0.7:**"
   ]
  },
  {
   "cell_type": "code",
   "execution_count": 15,
   "metadata": {},
   "outputs": [
    {
     "data": {
      "text/plain": [
       "0.01680672268907563"
      ]
     },
     "execution_count": 15,
     "metadata": {},
     "output_type": "execute_result"
    }
   ],
   "source": [
    "(pred[nalcolistas]>0.7).sum()/len(nalcolistas)"
   ]
  },
  {
   "cell_type": "markdown",
   "metadata": {},
   "source": [
    "**True Positive Rate em limiar 0.5:**"
   ]
  },
  {
   "cell_type": "code",
   "execution_count": 16,
   "metadata": {},
   "outputs": [
    {
     "data": {
      "text/plain": [
       "0.07563025210084033"
      ]
     },
     "execution_count": 16,
     "metadata": {},
     "output_type": "execute_result"
    }
   ],
   "source": [
    "(pred[alcolistas]>0.5).sum()/len(alcolistas)"
   ]
  },
  {
   "cell_type": "markdown",
   "metadata": {},
   "source": [
    "**True Negative Rate em limiar 0.5:**"
   ]
  },
  {
   "cell_type": "code",
   "execution_count": 17,
   "metadata": {},
   "outputs": [
    {
     "data": {
      "text/plain": [
       "0.05042016806722689"
      ]
     },
     "execution_count": 17,
     "metadata": {},
     "output_type": "execute_result"
    }
   ],
   "source": [
    "(pred[nalcolistas]>0.5).sum()/len(nalcolistas)"
   ]
  },
  {
   "cell_type": "markdown",
   "metadata": {},
   "source": [
    "**True Positive Rate em limiar 0.3:**"
   ]
  },
  {
   "cell_type": "code",
   "execution_count": 18,
   "metadata": {},
   "outputs": [
    {
     "data": {
      "text/plain": [
       "0.07563025210084033"
      ]
     },
     "execution_count": 18,
     "metadata": {},
     "output_type": "execute_result"
    }
   ],
   "source": [
    "(pred[alcolistas]>0.5).sum()/len(alcolistas)"
   ]
  },
  {
   "cell_type": "markdown",
   "metadata": {},
   "source": [
    "**True Negative Rate em limiar 0.3:**"
   ]
  },
  {
   "cell_type": "code",
   "execution_count": 19,
   "metadata": {},
   "outputs": [
    {
     "data": {
      "text/plain": [
       "0.05042016806722689"
      ]
     },
     "execution_count": 19,
     "metadata": {},
     "output_type": "execute_result"
    }
   ],
   "source": [
    "(pred[nalcolistas]>0.5).sum()/len(nalcolistas)"
   ]
  },
  {
   "cell_type": "markdown",
   "metadata": {},
   "source": [
    "<hr/>"
   ]
  },
  {
   "cell_type": "code",
   "execution_count": 20,
   "metadata": {},
   "outputs": [
    {
     "data": {
      "text/plain": [
       "[<matplotlib.lines.Line2D at 0x7fec3024b160>]"
      ]
     },
     "execution_count": 20,
     "metadata": {},
     "output_type": "execute_result"
    },
    {
     "data": {
      "image/png": "[encoded data removed]",
      "text/plain": [
       "<Figure size 432x288 with 1 Axes>"
      ]
     },
     "metadata": {
      "needs_background": "light"
     },
     "output_type": "display_data"
    }
   ],
   "source": [
    "from sklearn.metrics import roc_curve\n",
    "\n",
    "fpr, tpr, ths = roc_curve(y_teste, dt.predict_proba(X_teste)[:,1])\n",
    "\n",
    "plt.plot(fpr,tpr)"
   ]
  },
  {
   "cell_type": "markdown",
   "metadata": {},
   "source": [
    "### Fazendo uma plotagem mais detalhada:"
   ]
  },
  {
   "cell_type": "code",
   "execution_count": 21,
   "metadata": {},
   "outputs": [
    {
     "data": {
      "text/plain": [
       "Text(0, 0.5, 'True positive rate')"
      ]
     },
     "execution_count": 21,
     "metadata": {},
     "output_type": "execute_result"
    },
    {
     "data": {
      "image/png": "[encoded data removed]",
      "text/plain": [
       "<Figure size 504x504 with 1 Axes>"
      ]
     },
     "metadata": {
      "needs_background": "light"
     },
     "output_type": "display_data"
    }
   ],
   "source": [
    "plt.figure(figsize=(7,7))\n",
    "plt.plot(fpr,tpr,marker='o')\n",
    "plt.plot([0,1],[0,1],linestyle=':',color='k')\n",
    "plt.xlabel('False positive rate')\n",
    "plt.ylabel('True positive rate')"
   ]
  },
  {
   "cell_type": "markdown",
   "metadata": {},
   "source": [
    "Quanto mais **vertical** a linha que liga 2 pontos melhor: pago um pequeno preço mandando alguns não alcolistas pra psicóloga, e em contrapartida mando MUITOS que realmente precisam.\n",
    "\n",
    "Mas quando mais **horizontal** pior. Mando muita gente que não precisava pra acertar poucos alcolistas a mais.\n",
    "\n",
    "Logo,\n",
    "\n",
    "**Para aumentar TPR eu pago um preço em aumentar a FPR**\n",
    "\n",
    "**Em qual curva eu pago o menor preço?**"
   ]
  },
  {
   "cell_type": "markdown",
   "metadata": {},
   "source": [
    "# Como fica para os outros modelos?"
   ]
  },
  {
   "cell_type": "code",
   "execution_count": 22,
   "metadata": {},
   "outputs": [
    {
     "data": {
      "text/plain": [
       "Text(0, 0.5, 'True positive rate')"
      ]
     },
     "execution_count": 22,
     "metadata": {},
     "output_type": "execute_result"
    },
    {
     "data": {
      "image/png": "[encoded data removed]",
      "text/plain": [
       "<Figure size 504x504 with 1 Axes>"
      ]
     },
     "metadata": {
      "needs_background": "light"
     },
     "output_type": "display_data"
    }
   ],
   "source": [
    "max_depths = [3,5,9]\n",
    "plt.figure(figsize=(7,7))\n",
    "for max_depth in max_depths:\n",
    "    dt = DecisionTreeClassifier(max_depth=max_depth)\n",
    "    dt.fit(X_treino, y_treino)\n",
    "    fpr,tpr,ths = roc_curve(y_teste, dt.predict_proba(X_teste)[:,1])\n",
    "    plt.plot(fpr,tpr,marker='o',label=max_depth)\n",
    "plt.plot([0,1],[0,1],linestyle=':',color='k')\n",
    "plt.legend()\n",
    "plt.xlabel('False positive rate')\n",
    "plt.ylabel('True positive rate')"
   ]
  },
  {
   "cell_type": "markdown",
   "metadata": {},
   "source": [
    "Isso CONFIRMOU o que se observou com o F1 de limiar 0.50. O modelo com profundidade 3 é o melhor pra praticamente todos os limiares!\n",
    "\n",
    "A prática correta é olhar para a **ÁREA SOB A CURVA ROC**, ou **AUC**. Isso vai nos dizer se o modelo é bom em média para TODOS os limiares possíveis! Ou se há *algum limiar que a classificação é melhor*."
   ]
  },
  {
   "cell_type": "markdown",
   "metadata": {},
   "source": [
    "# Refazendo o código\n",
    "Mas agora com auc\n",
    "\n",
    "Vamos usar a `roc_auc_score`"
   ]
  },
  {
   "cell_type": "code",
   "execution_count": 23,
   "metadata": {},
   "outputs": [
    {
     "name": "stdout",
     "output_type": "stream",
     "text": [
      "2 - 0.6313\n",
      "3 - 0.6644\n",
      "4 - 0.6418\n",
      "5 - 0.6365\n",
      "6 - 0.6531\n",
      "7 - 0.6531\n",
      "8 - 0.6531\n",
      "9 - 0.6313\n",
      "10 - 0.6531\n"
     ]
    },
    {
     "data": {
      "text/plain": [
       "['modelo_dt.joblib']"
      ]
     },
     "execution_count": 23,
     "metadata": {},
     "output_type": "execute_result"
    }
   ],
   "source": [
    "# Leitura da base de dados\n",
    "import pandas as pd\n",
    "df = pd.read_csv('alcoolismo_infantil.csv') \n",
    "\n",
    "# Separação em variável preditiva e variável resposta\n",
    "X = df[['goout','absences']] \n",
    "y = df['target']\n",
    "\n",
    "# Separação em treino e teste\n",
    "from sklearn.model_selection import train_test_split\n",
    "X_treino, X_teste, y_treino, y_teste = train_test_split(X,y,test_size=0.3,random_state=42) \n",
    "\n",
    "# Busca nos parametros para encontrar o melhor modelo\n",
    "from sklearn.tree import DecisionTreeClassifier\n",
    "from sklearn.metrics import roc_auc_score\n",
    "max_depths = [2,3,4,5,6,7,8,9,10] \n",
    "aucs = []\n",
    "for max_depth in max_depths:\n",
    "    dt = DecisionTreeClassifier(max_depth=max_depth,random_state=123)\n",
    "    dt.fit(X_treino,y_treino)\n",
    "    y_pred = dt.predict(X_teste)\n",
    "    auc = roc_auc_score(y_teste, y_pred)\n",
    "    \n",
    "    aucs.append( auc )\n",
    "    print( '{max_depth} - {auc:5.4f}'.format(max_depth=max_depth, auc=aucs[-1]) )\n",
    "\n",
    "# Qual parametros é o melhor?\n",
    "import numpy as np\n",
    "best = max_depths[ np.argmax(aucs) ]\n",
    "\n",
    "# Ajuste do melhor modelo com a base completa\n",
    "dt.fit(X, y)\n",
    "\n",
    "# Salvar o melhor modelo em um arquivo\n",
    "import joblib\n",
    "joblib.dump(dt, 'modelo_dt.joblib')"
   ]
  },
  {
   "cell_type": "code",
   "execution_count": 24,
   "metadata": {},
   "outputs": [
    {
     "data": {
      "text/plain": [
       "3"
      ]
     },
     "execution_count": 24,
     "metadata": {},
     "output_type": "execute_result"
    }
   ],
   "source": [
    "best"
   ]
  },
  {
   "cell_type": "markdown",
   "metadata": {},
   "source": [
    "Mas e agora??? Como eu escolho O MELHOR LIMIAR, caso isso seja necessário?\n",
    "\n",
    "Agora podemos voltar para nossa precision recall!! Vamos olhar para como essas métricas se comportam ao longos dos limiares (usando função pronta, claro!)"
   ]
  },
  {
   "cell_type": "code",
   "execution_count": 25,
   "metadata": {},
   "outputs": [
    {
     "ename": "ValueError",
     "evalue": "x and y must have same first dimension, but have shapes (6,) and (7,)",
     "output_type": "error",
     "traceback": [
      "\u001b[0;31m---------------------------------------------------------------------------\u001b[0m",
      "\u001b[0;31mValueError\u001b[0m                                Traceback (most recent call last)",
      "Input \u001b[0;32mIn [25]\u001b[0m, in \u001b[0;36m<cell line: 12>\u001b[0;34m()\u001b[0m\n\u001b[1;32m      9\u001b[0m f1 \u001b[38;5;241m=\u001b[39m \u001b[38;5;241m2\u001b[39m\u001b[38;5;241m/\u001b[39m((\u001b[38;5;241m1\u001b[39m\u001b[38;5;241m/\u001b[39mprec)\u001b[38;5;241m+\u001b[39m(\u001b[38;5;241m1\u001b[39m\u001b[38;5;241m/\u001b[39mrec))\n\u001b[1;32m     11\u001b[0m plt\u001b[38;5;241m.\u001b[39mfigure(figsize\u001b[38;5;241m=\u001b[39m(\u001b[38;5;241m15\u001b[39m,\u001b[38;5;241m5\u001b[39m))\n\u001b[0;32m---> 12\u001b[0m \u001b[43mplt\u001b[49m\u001b[38;5;241;43m.\u001b[39;49m\u001b[43mplot\u001b[49m\u001b[43m(\u001b[49m\u001b[43mths\u001b[49m\u001b[43m,\u001b[49m\u001b[43mf1\u001b[49m\u001b[43m)\u001b[49m\n",
      "File \u001b[0;32m~/miniconda3/lib/python3.9/site-packages/matplotlib/pyplot.py:2757\u001b[0m, in \u001b[0;36mplot\u001b[0;34m(scalex, scaley, data, *args, **kwargs)\u001b[0m\n\u001b[1;32m   2755\u001b[0m \u001b[38;5;129m@_copy_docstring_and_deprecators\u001b[39m(Axes\u001b[38;5;241m.\u001b[39mplot)\n\u001b[1;32m   2756\u001b[0m \u001b[38;5;28;01mdef\u001b[39;00m \u001b[38;5;21mplot\u001b[39m(\u001b[38;5;241m*\u001b[39margs, scalex\u001b[38;5;241m=\u001b[39m\u001b[38;5;28;01mTrue\u001b[39;00m, scaley\u001b[38;5;241m=\u001b[39m\u001b[38;5;28;01mTrue\u001b[39;00m, data\u001b[38;5;241m=\u001b[39m\u001b[38;5;28;01mNone\u001b[39;00m, \u001b[38;5;241m*\u001b[39m\u001b[38;5;241m*\u001b[39mkwargs):\n\u001b[0;32m-> 2757\u001b[0m     \u001b[38;5;28;01mreturn\u001b[39;00m \u001b[43mgca\u001b[49m\u001b[43m(\u001b[49m\u001b[43m)\u001b[49m\u001b[38;5;241;43m.\u001b[39;49m\u001b[43mplot\u001b[49m\u001b[43m(\u001b[49m\n\u001b[1;32m   2758\u001b[0m \u001b[43m        \u001b[49m\u001b[38;5;241;43m*\u001b[39;49m\u001b[43margs\u001b[49m\u001b[43m,\u001b[49m\u001b[43m \u001b[49m\u001b[43mscalex\u001b[49m\u001b[38;5;241;43m=\u001b[39;49m\u001b[43mscalex\u001b[49m\u001b[43m,\u001b[49m\u001b[43m \u001b[49m\u001b[43mscaley\u001b[49m\u001b[38;5;241;43m=\u001b[39;49m\u001b[43mscaley\u001b[49m\u001b[43m,\u001b[49m\n\u001b[1;32m   2759\u001b[0m \u001b[43m        \u001b[49m\u001b[38;5;241;43m*\u001b[39;49m\u001b[38;5;241;43m*\u001b[39;49m\u001b[43m(\u001b[49m\u001b[43m{\u001b[49m\u001b[38;5;124;43m\"\u001b[39;49m\u001b[38;5;124;43mdata\u001b[39;49m\u001b[38;5;124;43m\"\u001b[39;49m\u001b[43m:\u001b[49m\u001b[43m \u001b[49m\u001b[43mdata\u001b[49m\u001b[43m}\u001b[49m\u001b[43m \u001b[49m\u001b[38;5;28;43;01mif\u001b[39;49;00m\u001b[43m \u001b[49m\u001b[43mdata\u001b[49m\u001b[43m \u001b[49m\u001b[38;5;129;43;01mis\u001b[39;49;00m\u001b[43m \u001b[49m\u001b[38;5;129;43;01mnot\u001b[39;49;00m\u001b[43m \u001b[49m\u001b[38;5;28;43;01mNone\u001b[39;49;00m\u001b[43m \u001b[49m\u001b[38;5;28;43;01melse\u001b[39;49;00m\u001b[43m \u001b[49m\u001b[43m{\u001b[49m\u001b[43m}\u001b[49m\u001b[43m)\u001b[49m\u001b[43m,\u001b[49m\u001b[43m \u001b[49m\u001b[38;5;241;43m*\u001b[39;49m\u001b[38;5;241;43m*\u001b[39;49m\u001b[43mkwargs\u001b[49m\u001b[43m)\u001b[49m\n",
      "File \u001b[0;32m~/miniconda3/lib/python3.9/site-packages/matplotlib/axes/_axes.py:1632\u001b[0m, in \u001b[0;36mAxes.plot\u001b[0;34m(self, scalex, scaley, data, *args, **kwargs)\u001b[0m\n\u001b[1;32m   1390\u001b[0m \u001b[38;5;124;03m\"\"\"\u001b[39;00m\n\u001b[1;32m   1391\u001b[0m \u001b[38;5;124;03mPlot y versus x as lines and/or markers.\u001b[39;00m\n\u001b[1;32m   1392\u001b[0m \n\u001b[0;32m   (...)\u001b[0m\n\u001b[1;32m   1629\u001b[0m \u001b[38;5;124;03m(``'green'``) or hex strings (``'#008000'``).\u001b[39;00m\n\u001b[1;32m   1630\u001b[0m \u001b[38;5;124;03m\"\"\"\u001b[39;00m\n\u001b[1;32m   1631\u001b[0m kwargs \u001b[38;5;241m=\u001b[39m cbook\u001b[38;5;241m.\u001b[39mnormalize_kwargs(kwargs, mlines\u001b[38;5;241m.\u001b[39mLine2D)\n\u001b[0;32m-> 1632\u001b[0m lines \u001b[38;5;241m=\u001b[39m [\u001b[38;5;241m*\u001b[39m\u001b[38;5;28mself\u001b[39m\u001b[38;5;241m.\u001b[39m_get_lines(\u001b[38;5;241m*\u001b[39margs, data\u001b[38;5;241m=\u001b[39mdata, \u001b[38;5;241m*\u001b[39m\u001b[38;5;241m*\u001b[39mkwargs)]\n\u001b[1;32m   1633\u001b[0m \u001b[38;5;28;01mfor\u001b[39;00m line \u001b[38;5;129;01min\u001b[39;00m lines:\n\u001b[1;32m   1634\u001b[0m     \u001b[38;5;28mself\u001b[39m\u001b[38;5;241m.\u001b[39madd_line(line)\n",
      "File \u001b[0;32m~/miniconda3/lib/python3.9/site-packages/matplotlib/axes/_base.py:312\u001b[0m, in \u001b[0;36m_process_plot_var_args.__call__\u001b[0;34m(self, data, *args, **kwargs)\u001b[0m\n\u001b[1;32m    310\u001b[0m     this \u001b[38;5;241m+\u001b[39m\u001b[38;5;241m=\u001b[39m args[\u001b[38;5;241m0\u001b[39m],\n\u001b[1;32m    311\u001b[0m     args \u001b[38;5;241m=\u001b[39m args[\u001b[38;5;241m1\u001b[39m:]\n\u001b[0;32m--> 312\u001b[0m \u001b[38;5;28;01myield from\u001b[39;00m \u001b[38;5;28;43mself\u001b[39;49m\u001b[38;5;241;43m.\u001b[39;49m\u001b[43m_plot_args\u001b[49m\u001b[43m(\u001b[49m\u001b[43mthis\u001b[49m\u001b[43m,\u001b[49m\u001b[43m \u001b[49m\u001b[43mkwargs\u001b[49m\u001b[43m)\u001b[49m\n",
      "File \u001b[0;32m~/miniconda3/lib/python3.9/site-packages/matplotlib/axes/_base.py:498\u001b[0m, in \u001b[0;36m_process_plot_var_args._plot_args\u001b[0;34m(self, tup, kwargs, return_kwargs)\u001b[0m\n\u001b[1;32m    495\u001b[0m     \u001b[38;5;28mself\u001b[39m\u001b[38;5;241m.\u001b[39maxes\u001b[38;5;241m.\u001b[39myaxis\u001b[38;5;241m.\u001b[39mupdate_units(y)\n\u001b[1;32m    497\u001b[0m \u001b[38;5;28;01mif\u001b[39;00m x\u001b[38;5;241m.\u001b[39mshape[\u001b[38;5;241m0\u001b[39m] \u001b[38;5;241m!=\u001b[39m y\u001b[38;5;241m.\u001b[39mshape[\u001b[38;5;241m0\u001b[39m]:\n\u001b[0;32m--> 498\u001b[0m     \u001b[38;5;28;01mraise\u001b[39;00m \u001b[38;5;167;01mValueError\u001b[39;00m(\u001b[38;5;124mf\u001b[39m\u001b[38;5;124m\"\u001b[39m\u001b[38;5;124mx and y must have same first dimension, but \u001b[39m\u001b[38;5;124m\"\u001b[39m\n\u001b[1;32m    499\u001b[0m                      \u001b[38;5;124mf\u001b[39m\u001b[38;5;124m\"\u001b[39m\u001b[38;5;124mhave shapes \u001b[39m\u001b[38;5;132;01m{\u001b[39;00mx\u001b[38;5;241m.\u001b[39mshape\u001b[38;5;132;01m}\u001b[39;00m\u001b[38;5;124m and \u001b[39m\u001b[38;5;132;01m{\u001b[39;00my\u001b[38;5;241m.\u001b[39mshape\u001b[38;5;132;01m}\u001b[39;00m\u001b[38;5;124m\"\u001b[39m)\n\u001b[1;32m    500\u001b[0m \u001b[38;5;28;01mif\u001b[39;00m x\u001b[38;5;241m.\u001b[39mndim \u001b[38;5;241m>\u001b[39m \u001b[38;5;241m2\u001b[39m \u001b[38;5;129;01mor\u001b[39;00m y\u001b[38;5;241m.\u001b[39mndim \u001b[38;5;241m>\u001b[39m \u001b[38;5;241m2\u001b[39m:\n\u001b[1;32m    501\u001b[0m     \u001b[38;5;28;01mraise\u001b[39;00m \u001b[38;5;167;01mValueError\u001b[39;00m(\u001b[38;5;124mf\u001b[39m\u001b[38;5;124m\"\u001b[39m\u001b[38;5;124mx and y can be no greater than 2D, but have \u001b[39m\u001b[38;5;124m\"\u001b[39m\n\u001b[1;32m    502\u001b[0m                      \u001b[38;5;124mf\u001b[39m\u001b[38;5;124m\"\u001b[39m\u001b[38;5;124mshapes \u001b[39m\u001b[38;5;132;01m{\u001b[39;00mx\u001b[38;5;241m.\u001b[39mshape\u001b[38;5;132;01m}\u001b[39;00m\u001b[38;5;124m and \u001b[39m\u001b[38;5;132;01m{\u001b[39;00my\u001b[38;5;241m.\u001b[39mshape\u001b[38;5;132;01m}\u001b[39;00m\u001b[38;5;124m\"\u001b[39m)\n",
      "\u001b[0;31mValueError\u001b[0m: x and y must have same first dimension, but have shapes (6,) and (7,)"
     ]
    },
    {
     "data": {
      "image/png": "[encoded data removed]",
      "text/plain": [
       "<Figure size 1080x360 with 1 Axes>"
      ]
     },
     "metadata": {
      "needs_background": "light"
     },
     "output_type": "display_data"
    }
   ],
   "source": [
    "from sklearn.metrics import precision_recall_curve\n",
    "import numpy as np\n",
    "np.seterr(divide='ignore', invalid='ignore')\n",
    "\n",
    "dt = DecisionTreeClassifier(max_depth=best)\n",
    "dt.fit(X_treino, y_treino)\n",
    "prec, rec, ths = precision_recall_curve(y_teste,dt.predict_proba(X_teste)[:,1])\n",
    "\n",
    "f1 = 2/((1/prec)+(1/rec))\n",
    "\n",
    "plt.figure(figsize=(15,5))\n",
    "plt.plot(ths,f1)"
   ]
  },
  {
   "cell_type": "markdown",
   "metadata": {},
   "source": [
    "Vale a pena ressaltar a razão de ter dado erro nesse código.\n",
    "\n",
    "Essa função varia o limiar calculando o precision e o recall.\n",
    "\n",
    "Mas para cada valor de precision e recall, ele volta o limiar logo antes e logo depois. Isso faz com que tenhamos um limiar a mais que o necessário.\n",
    "\n",
    "Pra minha finalidade, vou só \"jogar fora\" o último ponto (sintaxe: `vetor[:-1]`: Pegue todos exceto o último)"
   ]
  },
  {
   "cell_type": "code",
   "execution_count": 26,
   "metadata": {},
   "outputs": [
    {
     "data": {
      "text/plain": [
       "[<matplotlib.lines.Line2D at 0x7fec2c6d2520>]"
      ]
     },
     "execution_count": 26,
     "metadata": {},
     "output_type": "execute_result"
    },
    {
     "data": {
      "image/png": "[encoded data removed]",
      "text/plain": [
       "<Figure size 1080x360 with 1 Axes>"
      ]
     },
     "metadata": {
      "needs_background": "light"
     },
     "output_type": "display_data"
    }
   ],
   "source": [
    "from sklearn.metrics import precision_recall_curve\n",
    "import numpy as np\n",
    "np.seterr(divide='ignore', invalid='ignore')\n",
    "\n",
    "dt = DecisionTreeClassifier(max_depth=best)\n",
    "dt.fit(X_treino, y_treino)\n",
    "prec, rec, ths = precision_recall_curve(y_teste,dt.predict_proba(X_teste)[:,1])\n",
    "\n",
    "f1 = 2/((1/prec)+(1/rec))\n",
    "\n",
    "plt.figure(figsize=(15,5))\n",
    "plt.plot(ths,f1[:-1])"
   ]
  },
  {
   "cell_type": "code",
   "execution_count": 27,
   "metadata": {},
   "outputs": [
    {
     "data": {
      "text/plain": [
       "(array([17.44186047,  9.59302326,  0.        ,  0.        ,  0.        ,\n",
       "         0.        ,  4.36046512,  0.        ,  0.        ,  0.        ,\n",
       "         0.        ,  0.        ,  7.84883721,  0.        ,  0.        ,\n",
       "         0.        ,  0.        ,  0.        ,  0.        ,  0.        ,\n",
       "         0.        ,  1.74418605,  0.        ,  0.        ,  0.        ,\n",
       "         0.        ,  0.        ,  0.        ,  0.        ,  0.87209302]),\n",
       " array([0.03333333, 0.05722222, 0.08111111, 0.105     , 0.12888889,\n",
       "        0.15277778, 0.17666667, 0.20055556, 0.22444444, 0.24833333,\n",
       "        0.27222222, 0.29611111, 0.32      , 0.34388889, 0.36777778,\n",
       "        0.39166667, 0.41555556, 0.43944444, 0.46333333, 0.48722222,\n",
       "        0.51111111, 0.535     , 0.55888889, 0.58277778, 0.60666667,\n",
       "        0.63055556, 0.65444444, 0.67833333, 0.70222222, 0.72611111,\n",
       "        0.75      ]),\n",
       " <BarContainer object of 30 artists>)"
      ]
     },
     "execution_count": 27,
     "metadata": {},
     "output_type": "execute_result"
    },
    {
     "data": {
      "image/png": "[encoded data removed]",
      "text/plain": [
       "<Figure size 432x288 with 1 Axes>"
      ]
     },
     "metadata": {
      "needs_background": "light"
     },
     "output_type": "display_data"
    }
   ],
   "source": [
    "alcolistas  = y_teste==1\n",
    "nalcolistas = y_teste==0\n",
    "\n",
    "pred = dt.predict_proba(X_teste)[:,1]\n",
    "\n",
    "plt.hist(pred[ alcolistas],bins=30,color='r',alpha=.3,density=True)\n",
    "plt.hist(pred[nalcolistas],bins=30,color='b',alpha=.3,density=True)"
   ]
  }
 ],
 "metadata": {
  "kernelspec": {
   "display_name": "Python 3 (ipykernel)",
   "language": "python",
   "name": "python3"
  },
  "language_info": {
   "codemirror_mode": {
    "name": "ipython",
    "version": 3
   },
   "file_extension": ".py",
   "mimetype": "text/x-python",
   "name": "python",
   "nbconvert_exporter": "python",
   "pygments_lexer": "ipython3",
   "version": "3.9.12"
  }
 },
 "nbformat": 4,
 "nbformat_minor": 4
}
